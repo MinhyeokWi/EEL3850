{
 "cells": [
  {
   "cell_type": "markdown",
   "metadata": {},
   "source": [
    "# Homework 1 Part 2\n",
    "\n",
    "\n",
    "This is an individual assignment."
   ]
  },
  {
   "cell_type": "markdown",
   "metadata": {},
   "source": [
    "## Description\n",
    "\n",
    "Create or edit this Jupyter Notebook to answer the questions below. Use simulations to answer these questions. An analytical solution can be useful to check if your simulation is correct but analytical solutions alone will not be accepted as a solution to a problem."
   ]
  },
  {
   "cell_type": "markdown",
   "metadata": {},
   "source": [
    "## Problem 1\n",
    "\n",
    "Consider repeatedly rolling a fair 4-sided die.\n",
    "\n",
    "1. Create a simulation to compute the probability that the top face will be 4 at least once on four rolls of the die?\n",
    "2. Create a simulation to compute the probability that the top face will be 4 at least once on 20 rolls of the die?\n",
    "3. Create a simulation to compute how many rolls of the die would you have to do to be 90% confident that you would see at least one 4?\n",
    "4. Using the formula you have computed in problem 2 part 4, make a Python function that takes in the target value $p$ and outputs the required number of rolls of an integer. \n",
    "    1. Find the values for $p=0.95$ and $p=0.99$. \n",
    "    2. Use your simulation to verify that the number of rolls you specified is sufficient to achieve $p\\geq 0.95$."
   ]
  },
  {
   "cell_type": "code",
   "execution_count": 2,
   "metadata": {},
   "outputs": [],
   "source": [
    "import random\n",
    "import numpy as np\n",
    "import numpy.random as npr"
   ]
  },
  {
   "cell_type": "code",
   "execution_count": 3,
   "metadata": {},
   "outputs": [
    {
     "name": "stdout",
     "output_type": "stream",
     "text": [
      "the probability that the top face will be 4 at least once on four rolls of the die is  0.6844\n"
     ]
    }
   ],
   "source": [
    "count = 0\n",
    "num_sims = 10000\n",
    "n = 4\n",
    "for sims in range(num_sims):\n",
    "    die = random.choices([1,2,3,4], k = n)\n",
    "    if 4 in die:\n",
    "        count += 1\n",
    "print(\"the probability that the top face will be 4 at least once on four rolls of the die is \", count/num_sims)"
   ]
  },
  {
   "cell_type": "code",
   "execution_count": 4,
   "metadata": {},
   "outputs": [
    {
     "name": "stdout",
     "output_type": "stream",
     "text": [
      "the probability that the top face will be 4 at least once on 20 rolls of the die is  0.9967\n"
     ]
    }
   ],
   "source": [
    "count = 0\n",
    "num_sims = 10000\n",
    "n = 20\n",
    "for sims in range(num_sims):\n",
    "    die = random.choices([1,2,3,4], k = n)\n",
    "    if 4 in die:\n",
    "        count += 1\n",
    "print(\"the probability that the top face will be 4 at least once on 20 rolls of the die is \", count/num_sims)"
   ]
  },
  {
   "cell_type": "code",
   "execution_count": 5,
   "metadata": {},
   "outputs": [
    {
     "name": "stdout",
     "output_type": "stream",
     "text": [
      "the number of rolls of the die to have over than 90% confident that would see at least one 4: 9\n"
     ]
    }
   ],
   "source": [
    "temp = 0\n",
    "num_sims = 1000000\n",
    "\n",
    "for n in range(1,21):\n",
    "    count = 0\n",
    "    for sims in range(num_sims):\n",
    "        die = random.choices([1,2,3,4], k = n)\n",
    "        if 4 in die:\n",
    "            count += 1\n",
    "  \n",
    "    if count/num_sims >= 0.9:\n",
    "        temp = n\n",
    "        break\n",
    "print(\"the number of rolls of the die to have over than 90% confident that would see at least one 4:\", temp)"
   ]
  },
  {
   "cell_type": "code",
   "execution_count": 6,
   "metadata": {
    "scrolled": true
   },
   "outputs": [],
   "source": [
    "def confidence(target_confident):\n",
    "    \n",
    "    temp = 0\n",
    "    num_sims = 100000\n",
    "\n",
    "    for n in range(1,21):\n",
    "        count = 0\n",
    "        for sims in range(num_sims):\n",
    "            die = random.choices([1,2,3,4], k = n)\n",
    "            if 4 in die:\n",
    "                count += 1\n",
    "\n",
    "        if count/num_sims >= target_confident:\n",
    "            temp = n\n",
    "            break\n",
    "    return temp"
   ]
  },
  {
   "cell_type": "code",
   "execution_count": 7,
   "metadata": {
    "scrolled": true
   },
   "outputs": [
    {
     "name": "stdout",
     "output_type": "stream",
     "text": [
      "the number of rolls of the die to have over than 95% confident that would see at least one 4:  11\n"
     ]
    }
   ],
   "source": [
    "print(\"the number of rolls of the die to have over than 95% confident that would see at least one 4: \", confidence(0.95))"
   ]
  },
  {
   "cell_type": "code",
   "execution_count": 8,
   "metadata": {},
   "outputs": [
    {
     "name": "stdout",
     "output_type": "stream",
     "text": [
      "the number of rolls of the die to have over than 95% confident that would see at least one 4:  17\n"
     ]
    }
   ],
   "source": [
    "print(\"the number of rolls of the die to have over than 95% confident that would see at least one 4: \", confidence(0.99))"
   ]
  },
  {
   "cell_type": "markdown",
   "metadata": {},
   "source": [
    "## Problem 2\n",
    "\n",
    "Create a simulation function where you will roll a fair 6-sided die twice. Use simulation to find out the probability of getting a 4 or 6 on the first toss and a 1,2,3, or 5 on the second toss. "
   ]
  },
  {
   "cell_type": "code",
   "execution_count": 9,
   "metadata": {},
   "outputs": [],
   "source": [
    "def sim_function(num_sims = 10000):\n",
    "    first_count = 0\n",
    "    second_count = 0\n",
    "    for sims in range(num_sims):\n",
    "        die1 = random.choice([1,2,3,4,5,6])\n",
    "        die2 = random.choice([1,2,3,4,5,6])\n",
    "        if die1 == 4 or die1 == 6:\n",
    "            first_count += 1\n",
    "            if die2 == 1 or die2 == 2 or die2 == 3 or die2 == 5:\n",
    "                second_count += 1\n",
    "    print(\"the probability of getting a 4 or 6 on the first toss and a 1,2,3, or 5 on the second toss is \", second_count/num_sims)"
   ]
  },
  {
   "cell_type": "code",
   "execution_count": 10,
   "metadata": {},
   "outputs": [
    {
     "name": "stdout",
     "output_type": "stream",
     "text": [
      "the probability of getting a 4 or 6 on the first toss and a 1,2,3, or 5 on the second toss is  0.22364\n"
     ]
    }
   ],
   "source": [
    "sim_function(100000)"
   ]
  },
  {
   "cell_type": "markdown",
   "metadata": {},
   "source": [
    "## Problem 3\n",
    "\n",
    "Suppose that you have a bag with 3 coins. One of them is a fair coin, but the others are biased trick coins. When flipped, the three coins come up heads with probability $\\frac{1}{2}$, $\\frac{1}{4}$, and $\\frac{1}{6}$, respectively.\n",
    "\n",
    "Consider the experiment where you pick one coin at random and flip it three times. Let $H_i$ be the event that the coin comes up heads on flip $i$. What is the probability of the outcome $H_1\\cap H_2\\cap \\overline{H_3}$?\n",
    "\n",
    "With small modification in your code, find out the probability of the outcome $H_1\\cap \\overline{H_2} \\cap \\overline{H_3}$.\n",
    "\n",
    "Use simulation to find out the probability."
   ]
  },
  {
   "cell_type": "code",
   "execution_count": 14,
   "metadata": {},
   "outputs": [],
   "source": [
    "def coin_flip(num_sims = 100000):\n",
    "    fair = 1/2\n",
    "    biased1_prob = 1/4\n",
    "    biased2_prob = 1/6\n",
    "    counts = 0\n",
    "    for sims in range(num_sims):\n",
    "        coins = random.choice(['fair', 'biased1', 'biased2'])\n",
    "        if coins == 'fair':\n",
    "            result = random.choices(['H', 'T'], k = 3)\n",
    "        elif coins == 'biased1':\n",
    "            result = random.choices(['H', 'T'], weights = (biased1_prob, 1 - biased1_prob), k = 3)\n",
    "        elif coins == 'biased2':\n",
    "            result = random.choices(['H', 'T'], weights = (biased2_prob, 1 - biased2_prob), k = 3)\n",
    "        if result[0] == 'H' and result[1] == 'H' and result[2] == 'T':\n",
    "            counts += 1\n",
    "                    \n",
    "    print(counts/num_sims)\n"
   ]
  },
  {
   "cell_type": "code",
   "execution_count": 15,
   "metadata": {
    "scrolled": false
   },
   "outputs": [
    {
     "name": "stdout",
     "output_type": "stream",
     "text": [
      "0.06587\n"
     ]
    }
   ],
   "source": [
    "coin_flip()"
   ]
  },
  {
   "cell_type": "code",
   "execution_count": 16,
   "metadata": {},
   "outputs": [],
   "source": [
    "def coin_flip(num_sims = 100000):\n",
    "    fair = 1/2\n",
    "    biased1_prob = 1/4\n",
    "    biased2_prob = 1/6\n",
    "    counts = 0\n",
    "    for sims in range(num_sims):\n",
    "        coins = random.choice(['fair', 'biased1', 'biased2'])\n",
    "        if coins == 'fair':\n",
    "            result = random.choices(['H', 'T'], k = 3)\n",
    "        elif coins == 'biased1':\n",
    "            result = random.choices(['H', 'T'], weights = (biased1_prob, 1 - biased1_prob), k = 3)\n",
    "        elif coins == 'biased2':\n",
    "            result = random.choices(['H', 'T'], weights = (biased2_prob, 1 - biased2_prob), k = 3)\n",
    "        if result[0] == 'H' and result[1] == 'T' and result[2] == 'T':\n",
    "            counts += 1\n",
    "                    \n",
    "    print(counts/num_sims)\n"
   ]
  },
  {
   "cell_type": "code",
   "execution_count": 17,
   "metadata": {},
   "outputs": [
    {
     "name": "stdout",
     "output_type": "stream",
     "text": [
      "0.12569\n"
     ]
    }
   ],
   "source": [
    "coin_flip()"
   ]
  },
  {
   "cell_type": "markdown",
   "metadata": {},
   "source": [
    "# Submit Your Solutions\n",
    "\n",
    "Confirm that you've successfully completed the assignment.\n",
    "\n",
    "Along with the Notebook, include a PDF of the notebook with your solutions.\n",
    "\n",
    "```add``` and ```commit``` the final version of your work, and ```push``` your PDF file to your GitHub repository.\n",
    "\n",
    "Submit the URL of your GitHub Repository as your assignment submission on Canvas."
   ]
  }
 ],
 "metadata": {
  "kernelspec": {
   "display_name": "Python 3 (ipykernel)",
   "language": "python",
   "name": "python3"
  },
  "language_info": {
   "codemirror_mode": {
    "name": "ipython",
    "version": 3
   },
   "file_extension": ".py",
   "mimetype": "text/x-python",
   "name": "python",
   "nbconvert_exporter": "python",
   "pygments_lexer": "ipython3",
   "version": "3.11.4"
  },
  "latex_envs": {
   "LaTeX_envs_menu_present": true,
   "autoclose": false,
   "autocomplete": true,
   "bibliofile": "biblio.bib",
   "cite_by": "apalike",
   "current_citInitial": 1,
   "eqLabelWithNumbers": true,
   "eqNumInitial": 1,
   "hotkeys": {
    "equation": "Ctrl-E",
    "itemize": "Ctrl-I"
   },
   "labels_anchors": false,
   "latex_user_defs": false,
   "report_style_numbering": false,
   "user_envs_cfg": false
  },
  "varInspector": {
   "cols": {
    "lenName": 16,
    "lenType": 16,
    "lenVar": 40
   },
   "kernels_config": {
    "python": {
     "delete_cmd_postfix": "",
     "delete_cmd_prefix": "del ",
     "library": "var_list.py",
     "varRefreshCmd": "print(var_dic_list())"
    },
    "r": {
     "delete_cmd_postfix": ") ",
     "delete_cmd_prefix": "rm(",
     "library": "var_list.r",
     "varRefreshCmd": "cat(var_dic_list()) "
    }
   },
   "types_to_exclude": [
    "module",
    "function",
    "builtin_function_or_method",
    "instance",
    "_Feature"
   ],
   "window_display": false
  }
 },
 "nbformat": 4,
 "nbformat_minor": 4
}
